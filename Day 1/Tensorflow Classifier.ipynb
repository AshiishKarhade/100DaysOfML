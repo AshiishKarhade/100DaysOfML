{
 "cells": [
  {
   "cell_type": "code",
   "execution_count": 1,
   "metadata": {},
   "outputs": [
    {
     "name": "stderr",
     "output_type": "stream",
     "text": [
      "/Users/ashishkarhade/anaconda3/lib/python3.6/site-packages/h5py/__init__.py:36: FutureWarning: Conversion of the second argument of issubdtype from `float` to `np.floating` is deprecated. In future, it will be treated as `np.float64 == np.dtype(float).type`.\n",
      "  from ._conv import register_converters as _register_converters\n",
      "Using TensorFlow backend.\n"
     ]
    }
   ],
   "source": [
    "import os\n",
    "import tensorflow as tf\n",
    "import keras"
   ]
  },
  {
   "cell_type": "code",
   "execution_count": 2,
   "metadata": {},
   "outputs": [],
   "source": [
    "#Setting up a base directory structure\n",
    "#FOr your project, make a folder named 'data' and put folders 'training' & 'testing' in it with 'cat' & 'dog' folder names\n",
    "train_cat_dr = os.path.join('data/training/cat')\n",
    "train_dog_dr = os.path.join('data/training/dog')\n",
    "\n",
    "test_cat_dr = os.path.join('data/testing/cat')\n",
    "test_dog_dr = os.path.join('data/testing/dog')"
   ]
  },
  {
   "cell_type": "code",
   "execution_count": 5,
   "metadata": {},
   "outputs": [],
   "source": [
    "#assign the directory files to their specific names\n",
    "cat_train = os.listdir(train_cat_dr)\n",
    "cat_test = os.listdir(test_cat_dr)\n",
    "\n",
    "dog_train = os.listdir(train_cat_dr)\n",
    "dog_test = os.listdir(test_dog_dr)"
   ]
  },
  {
   "cell_type": "code",
   "execution_count": 8,
   "metadata": {},
   "outputs": [
    {
     "name": "stdout",
     "output_type": "stream",
     "text": [
      "Total training cat images: 500\n",
      "Total training dog images: 500\n",
      "Total testing cat images: 200\n",
      "Total testing dog images: 200\n"
     ]
    }
   ],
   "source": [
    "#print the total no. of training and testing images\n",
    "print(\"Total training cat images: {}\".format(len(cat_train)))\n",
    "print(\"Total training dog images: {}\".format(len(dog_train)))\n",
    "print(\"Total testing cat images: {}\".format(len(cat_test)))\n",
    "print(\"Total testing dog images: {}\".format(len(dog_test)))"
   ]
  },
  {
   "cell_type": "code",
   "execution_count": 9,
   "metadata": {},
   "outputs": [],
   "source": [
    "# Tensorflow Image Generators\n",
    "#VERY POWERFUL for datasets like this where labels are labelled according to their folder names\n",
    "\n",
    "from tensorflow.keras.preprocessing.image import ImageDataGenerator\n",
    "\n",
    "train_gen = ImageDataGenerator(rescale=1/255)\n",
    "test_gen = ImageDataGenerator(rescale=1/255)"
   ]
  },
  {
   "cell_type": "code",
   "execution_count": 11,
   "metadata": {},
   "outputs": [
    {
     "name": "stdout",
     "output_type": "stream",
     "text": [
      "Found 999 images belonging to 2 classes.\n",
      "Found 400 images belonging to 2 classes.\n"
     ]
    }
   ],
   "source": [
    "train_generator = train_gen.flow_from_directory(directory='data/training',\n",
    "                                               target_size=(300,300),\n",
    "                                               batch_size=128,\n",
    "                                               class_mode='binary') \n",
    "test_generator = test_gen.flow_from_directory(directory='data/testing',\n",
    "                                             target_size=(300,300),\n",
    "                                             batch_size=32,\n",
    "                                             class_mode='binary')"
   ]
  },
  {
   "cell_type": "code",
   "execution_count": 14,
   "metadata": {},
   "outputs": [],
   "source": [
    "# Making a model\n",
    "\n",
    "model = tf.keras.models.Sequential([\n",
    "    #Layer 1 followed by pooling layer\n",
    "    tf.keras.layers.Conv2D(16, (3,3), activation='relu', input_shape=(300, 300, 3)),\n",
    "    tf.keras.layers.MaxPooling2D((2,2)),\n",
    "    \n",
    "    tf.keras.layers.Conv2D(filters=32, kernel_size=(3,3), activation='relu'),\n",
    "    tf.keras.layers.MaxPool2D((2,2)),\n",
    "    \n",
    "    tf.keras.layers.Conv2D(filters=64, kernel_size=(3,3), activation='relu'),\n",
    "    tf.keras.layers.MaxPooling2D((2,2)),\n",
    "    \n",
    "    tf.keras.layers.Flatten(),\n",
    "    tf.keras.layers.Dense(214, activation='relu'),\n",
    "    tf.keras.layers.Dense(1, activation='sigmoid'),\n",
    "])"
   ]
  },
  {
   "cell_type": "code",
   "execution_count": 15,
   "metadata": {},
   "outputs": [],
   "source": [
    "from tensorflow.keras.optimizers import RMSprop\n",
    "\n",
    "model.compile(loss='binary_crossentropy',\n",
    "              optimizer=RMSprop(lr=0.001),\n",
    "              metrics=['acc'])"
   ]
  },
  {
   "cell_type": "code",
   "execution_count": 17,
   "metadata": {},
   "outputs": [
    {
     "name": "stdout",
     "output_type": "stream",
     "text": [
      "Epoch 1/15\n",
      "8/8 [==============================] - 105s 13s/step - loss: 7.1717 - acc: 0.4958 - val_loss: 7.6183 - val_acc: 0.5273\n",
      "Epoch 2/15\n",
      "8/8 [==============================] - 93s 12s/step - loss: 7.3162 - acc: 0.4893 - val_loss: 7.6183 - val_acc: 0.5273\n",
      "Epoch 3/15\n",
      "8/8 [==============================] - 94s 12s/step - loss: 2.9279 - acc: 0.4835 - val_loss: 0.6881 - val_acc: 0.4727\n",
      "Epoch 4/15\n",
      "8/8 [==============================] - 92s 11s/step - loss: 0.6792 - acc: 0.5407 - val_loss: 0.6802 - val_acc: 0.4727\n",
      "Epoch 5/15\n",
      "8/8 [==============================] - 92s 12s/step - loss: 0.6707 - acc: 0.6012 - val_loss: 0.6464 - val_acc: 0.6875\n",
      "Epoch 6/15\n",
      "8/8 [==============================] - 92s 11s/step - loss: 0.6626 - acc: 0.5978 - val_loss: 1.0116 - val_acc: 0.5430\n",
      "Epoch 7/15\n",
      "8/8 [==============================] - 92s 11s/step - loss: 0.6768 - acc: 0.6490 - val_loss: 0.6353 - val_acc: 0.6367\n",
      "Epoch 8/15\n",
      "8/8 [==============================] - 92s 11s/step - loss: 0.6251 - acc: 0.6830 - val_loss: 0.6498 - val_acc: 0.5312\n",
      "Epoch 9/15\n",
      "8/8 [==============================] - 92s 11s/step - loss: 0.6138 - acc: 0.6694 - val_loss: 0.6212 - val_acc: 0.6914\n",
      "Epoch 10/15\n",
      "8/8 [==============================] - 92s 11s/step - loss: 0.5314 - acc: 0.7682 - val_loss: 0.9802 - val_acc: 0.4805\n",
      "Epoch 11/15\n",
      "8/8 [==============================] - 92s 11s/step - loss: 0.5115 - acc: 0.7920 - val_loss: 0.6076 - val_acc: 0.6719\n",
      "Epoch 12/15\n",
      "8/8 [==============================] - 92s 11s/step - loss: 0.5300 - acc: 0.7701 - val_loss: 0.9035 - val_acc: 0.6172\n",
      "Epoch 13/15\n",
      "8/8 [==============================] - 92s 12s/step - loss: 0.4016 - acc: 0.8348 - val_loss: 0.9686 - val_acc: 0.5273\n",
      "Epoch 14/15\n",
      "8/8 [==============================] - 92s 12s/step - loss: 0.7033 - acc: 0.7291 - val_loss: 0.6029 - val_acc: 0.7070\n",
      "Epoch 15/15\n",
      "8/8 [==============================] - 91s 11s/step - loss: 0.3477 - acc: 0.8688 - val_loss: 0.6794 - val_acc: 0.6680\n"
     ]
    }
   ],
   "source": [
    "history = model.fit_generator(\n",
    "      train_generator,\n",
    "      steps_per_epoch=8,  \n",
    "      epochs=15,\n",
    "      verbose=1,\n",
    "      validation_data = test_generator,\n",
    "      validation_steps=8)"
   ]
  },
  {
   "cell_type": "code",
   "execution_count": 18,
   "metadata": {},
   "outputs": [],
   "source": [
    "# Making a model2\n",
    "\n",
    "model2 = tf.keras.models.Sequential([\n",
    "    #Layer 1 followed by pooling layer\n",
    "    tf.keras.layers.Conv2D(16, (3,3), activation='relu', input_shape=(300, 300, 3)),\n",
    "    tf.keras.layers.MaxPooling2D((2,2)),\n",
    "    \n",
    "    tf.keras.layers.Conv2D(filters=32, kernel_size=(3,3), activation='relu'),\n",
    "    tf.keras.layers.MaxPool2D((2,2)),\n",
    "    \n",
    "    tf.keras.layers.Conv2D(filters=64, kernel_size=(3,3), activation='relu'),\n",
    "    tf.keras.layers.MaxPooling2D((2,2)),\n",
    "\n",
    "    tf.keras.layers.Conv2D(filters=128, kernel_size=(3,3), activation='relu'),\n",
    "    tf.keras.layers.MaxPooling2D((2,2)),\n",
    "    \n",
    "    tf.keras.layers.Flatten(),\n",
    "    tf.keras.layers.Dense(214, activation='relu'),\n",
    "    tf.keras.layers.Dense(1, activation='sigmoid'),\n",
    "])"
   ]
  },
  {
   "cell_type": "code",
   "execution_count": null,
   "metadata": {},
   "outputs": [],
   "source": []
  }
 ],
 "metadata": {
  "kernelspec": {
   "display_name": "Python 3",
   "language": "python",
   "name": "python3"
  },
  "language_info": {
   "codemirror_mode": {
    "name": "ipython",
    "version": 3
   },
   "file_extension": ".py",
   "mimetype": "text/x-python",
   "name": "python",
   "nbconvert_exporter": "python",
   "pygments_lexer": "ipython3",
   "version": "3.6.5"
  }
 },
 "nbformat": 4,
 "nbformat_minor": 2
}
